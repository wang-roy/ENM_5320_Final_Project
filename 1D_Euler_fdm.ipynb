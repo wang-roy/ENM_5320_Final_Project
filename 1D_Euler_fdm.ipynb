{
 "cells": [
  {
   "cell_type": "code",
   "execution_count": null,
   "id": "78a0c4e6",
   "metadata": {},
   "outputs": [],
   "source": [
    "import numpy as np\n",
    "import matplotlib.pyplot as plt\n",
    "# FDM solution to 1D Euler Equations\n",
    "# Initial Conditions - 1D sod shock tube initial conditions\n",
    "# Dirichlet Boundary Conditions"
   ]
  },
  {
   "cell_type": "code",
   "execution_count": null,
   "id": "66173f1a",
   "metadata": {},
   "outputs": [],
   "source": [
    "# Plot Comparison FDM solution to Analytic Solution "
   ]
  }
 ],
 "metadata": {
  "kernelspec": {
   "display_name": "workenv",
   "language": "python",
   "name": "python3"
  },
  "language_info": {
   "name": "python",
   "version": "3.11.4"
  }
 },
 "nbformat": 4,
 "nbformat_minor": 5
}
