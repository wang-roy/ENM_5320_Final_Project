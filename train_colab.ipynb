{
  "cells": [
    {
      "cell_type": "code",
      "execution_count": 1,
      "id": "1020da6d",
      "metadata": {
        "colab": {
          "base_uri": "https://localhost:8080/"
        },
        "id": "1020da6d",
        "outputId": "aff2cdf8-5bb4-4a2e-9fe9-df3b56e0c16a"
      },
      "outputs": [
        {
          "name": "stdout",
          "output_type": "stream",
          "text": [
            "Mounted at /content/drive\n"
          ]
        }
      ],
      "source": [
        "from google.colab import drive\n",
        "drive.mount('/content/drive')\n",
        "import sys\n",
        "import os\n",
        "sys.path.append('/content/drive/My Drive/ENM_5320_Final_Project')\n",
        "path = \"/content/drive/My Drive/ENM_5320_Final_Project\"\n",
        "os.chdir(path)\n",
        "\n",
        "import torch\n",
        "import torch.nn as nn\n",
        "from torch.utils.data import Dataset\n",
        "from torch.utils.data import DataLoader\n",
        "import torch.optim as optim\n",
        "import numpy as np\n",
        "import matplotlib.pyplot as plt\n",
        "\n",
        "import pickle as pkl\n",
        "from pathlib import Path\n",
        "from IPython.display import clear_output\n",
        "import ipywidgets as widgets\n",
        "from time import sleep\n",
        "from tqdm import trange\n",
        "import wandb\n",
        "\n",
        "from FNO import FNO\n",
        "\n",
        "device = torch.device(\"cuda\" if torch.cuda.is_available() else \"cpu\")"
      ]
    },
    {
      "cell_type": "code",
      "execution_count": 3,
      "id": "ff58cd16",
      "metadata": {
        "id": "ff58cd16"
      },
      "outputs": [],
      "source": [
        "# global parameters\n",
        "B = 15 # batch size\n",
        "nx = 500 # npts\n",
        "n_sols = 5000\n",
        "\n",
        "modes = 24\n",
        "num_fourier_layers = 4\n",
        "in_channels = 4\n",
        "out_channels = 3\n",
        "fourier_channels = 64\n",
        "activation = nn.Tanh()\n",
        "epochs = 10000\n",
        "\n",
        "checkpt_path = path+'/checkpoints/'\n",
        "data_path=path+'/data/'"
      ]
    },
    {
      "cell_type": "code",
      "execution_count": 30,
      "id": "a26f1534",
      "metadata": {
        "colab": {
          "base_uri": "https://localhost:8080/"
        },
        "id": "a26f1534",
        "outputId": "49bd05f4-1aa6-4655-f635-268d0ce0d53a"
      },
      "outputs": [
        {
          "data": {
            "text/plain": [
              "array([0., 0., 0., 0., 0., 0., 0., 0., 0., 0., 0., 0., 0., 0., 0., 0., 0.,\n",
              "       0., 0., 0., 0., 0., 0., 0., 0., 0., 0., 0., 0., 0., 0., 0., 0., 0.,\n",
              "       0., 0., 0., 0., 0., 0., 0., 0., 0., 0., 0., 0., 0., 0., 0., 0., 0.,\n",
              "       0., 0., 0., 0., 0., 0., 0., 0., 0., 0., 0., 0., 0., 0., 0., 0., 0.,\n",
              "       0., 0., 0., 0., 0., 0., 0., 0., 0., 0., 0., 0., 0., 0., 0., 0., 0.,\n",
              "       0., 0., 0., 0., 0., 0., 0., 0., 0., 0., 0., 0., 0., 0., 0., 0., 0.,\n",
              "       0., 0., 0., 0., 0., 0., 0., 0., 0., 0., 0., 0., 0., 0., 0., 0., 0.,\n",
              "       0., 0., 0., 0., 0., 0., 0., 0., 0., 0., 0., 0., 0., 0., 0., 0., 0.,\n",
              "       0., 0., 0., 0., 0., 0., 0., 0., 0., 0., 0., 0., 0., 0., 0., 0., 0.,\n",
              "       0., 0., 0., 0., 0., 0., 0., 0., 0., 0., 0., 0., 0., 0., 0., 0., 0.,\n",
              "       0., 0., 0., 0., 0., 0., 0., 0., 0., 0., 0., 0., 0., 0., 0., 0., 0.,\n",
              "       0., 0., 0., 0., 0., 0., 0., 0., 0., 0., 0., 0., 0., 0., 0., 0., 0.,\n",
              "       0., 0., 0., 0., 0., 0., 0., 0., 0., 0., 0., 0., 0., 0., 0., 0., 0.,\n",
              "       0., 0., 0., 0., 0., 0., 0., 0., 0., 0., 0., 0., 0., 0., 0., 0., 0.,\n",
              "       0., 0., 0., 0., 0., 0., 0., 0., 0., 0., 0., 0., 0., 0., 0., 0., 0.,\n",
              "       0., 0., 0., 0., 0., 0., 0., 0., 0., 0., 0., 0., 0., 0., 0., 0., 0.,\n",
              "       0., 0., 0., 0., 0., 0., 0., 0., 0., 0., 0., 0., 0., 0., 0., 0., 0.,\n",
              "       0., 0., 0., 0., 0., 0., 0., 0., 0., 0., 0., 0., 0., 0., 0., 0., 0.,\n",
              "       0., 0., 0., 0., 0., 0., 0., 0., 0., 0., 0., 0., 0., 0., 0., 0., 0.,\n",
              "       0., 0., 0., 0., 0., 0., 0., 0., 0., 0., 0., 0., 0., 0., 0., 0., 0.,\n",
              "       0., 0., 0., 0., 0., 0., 0., 0., 0., 0., 0., 0., 0., 0., 0., 0., 0.,\n",
              "       0., 0., 0., 0., 0., 0., 0., 0., 0., 0., 0., 0., 0., 0., 0., 0., 0.,\n",
              "       0., 0., 0., 0., 0., 0., 0., 0., 0., 0., 0., 0., 0., 0., 0., 0., 0.,\n",
              "       0., 0., 0., 0., 0., 0., 0., 0., 0., 0., 0., 0., 0., 0., 0., 0., 0.,\n",
              "       0., 0., 0., 0., 0., 0., 0., 0., 0., 0., 0., 0., 0., 0., 0., 0., 0.,\n",
              "       0., 0., 0., 0., 0., 0., 0., 0., 0., 0., 0., 0., 0., 0., 0., 0., 0.,\n",
              "       0., 0., 0., 0., 0., 0., 0., 0., 0., 0., 0., 0., 0., 0., 0., 0., 0.,\n",
              "       0., 0., 0., 0., 0., 0., 0., 0., 0., 0., 0., 0., 0., 0., 0., 0., 0.,\n",
              "       0., 0., 0., 0., 0., 0., 0., 0., 0., 0., 0., 0., 0., 0., 0., 0., 0.,\n",
              "       0., 0., 0., 0., 0., 0., 0.])"
            ]
          },
          "execution_count": 30,
          "metadata": {},
          "output_type": "execute_result"
        }
      ],
      "source": [
        "with open(data_path+f\"{n_sols}_inputs_train.pkl\", 'rb') as file:\n",
        "    inputs_test = pkl.load(file)\n",
        "len(inputs_test)\n",
        "inputs_test[0][:][3]"
      ]
    },
    {
      "cell_type": "markdown",
      "id": "3e32800b",
      "metadata": {
        "id": "3e32800b"
      },
      "source": [
        "# Initialize Data Loader"
      ]
    },
    {
      "cell_type": "code",
      "execution_count": 34,
      "id": "bb9258dd",
      "metadata": {
        "id": "bb9258dd"
      },
      "outputs": [],
      "source": [
        "class SodShockData(Dataset):\n",
        "    def __init__(self, path, n_sols, split: str = \"train\"):\n",
        "        super(SodShockData, self).__init__()\n",
        "        with open(Path(path) / f\"{n_sols}_inputs_{split}.pkl\", 'rb') as file:\n",
        "            self.input_data = np.array(pkl.load(file))\n",
        "\n",
        "        with open(Path(path) / f\"{n_sols}_outputs_{split}.pkl\", 'rb') as file:\n",
        "            self.output_data = np.array(pkl.load(file))\n",
        "\n",
        "        self.train_input_means=[]\n",
        "        self.train_input_stds=[]\n",
        "        self.train_output_means=[]\n",
        "        self.train_output_stds=[]\n",
        "    def __len__(self):\n",
        "        return len(self.input_data)\n",
        "\n",
        "    def normalize_training_data(self):\n",
        "\n",
        "      for i in range(len(self.input_data[0])):\n",
        "        mean = self.input_data[:][i].mean()\n",
        "        std = self.input_data[:][i].std()\n",
        "        # ensure numerical stability\n",
        "        if std <= 1e-10:\n",
        "          std += 1e-6\n",
        "        self.input_data[:,i] = (self.input_data[:,i]-mean)/std\n",
        "        self.train_input_means.append(mean)\n",
        "        self.train_input_stds.append(std)\n",
        "\n",
        "      for i in range(len(self.output_data[0])):\n",
        "        mean = self.output_data[:][i].mean()\n",
        "        std = self.output_data[:][i].std()\n",
        "\n",
        "        # ensure numerical stability\n",
        "        if std <= 1e-10:\n",
        "          std += 1e-6\n",
        "        self.output_data[:][i] = (self.output_data[:][i]-mean)/std\n",
        "        self.train_output_means.append(mean)\n",
        "        self.train_output_stds.append(std)\n",
        "\n",
        "    def normalize_test_data(self, train_input_means, train_input_stds, train_output_means, train_output_stds):\n",
        "      for i in range(len(self.input_data[0])):\n",
        "        mean = train_input_means[i]\n",
        "        std = train_input_stds[i]\n",
        "        self.input_data[:][i] = (self.input_data[:][i]-mean)/std\n",
        "\n",
        "      for i in range(len(self.output_data[0])):\n",
        "        mean = train_output_means[i]\n",
        "        std = train_output_stds[i]\n",
        "        self.output_data[:][i] = (self.output_data[:][i]-mean)/std\n",
        "\n",
        "    def unnormalize_training_data(self):\n",
        "      for i in range(len(self.input_data[0])):\n",
        "        mean = self.train_input_means[i]\n",
        "        std = self.train_input_stds[i]\n",
        "        self.input_data[:][i] = self.input_data[:][i]*std + mean\n",
        "\n",
        "      for i in range(len(self.output_data[0])):\n",
        "        mean = self.train_output_means[i]\n",
        "        std = self.train_output_stds[i]\n",
        "        self.output_data[:][i] = self.output_data[:][i]*std + mean\n",
        "\n",
        "    def unnormalize_test_data(self, train_input_means, train_input_stds, train_output_means, train_output_stds):\n",
        "      for i in range(len(self.input_data[0])):\n",
        "        mean = train_input_means[i]\n",
        "        std = train_input_stds[i]\n",
        "        self.input_data[:][i] = self.input_data[:][i]*std + mean\n",
        "\n",
        "      for i in range(len(self.output_data[0])):\n",
        "        mean = train_output_means[i]\n",
        "        std = train_output_stds[i]\n",
        "        self.output_data[:][i] = self.output_data[:][i]*std + mean\n",
        "\n",
        "\n",
        "    def __getitem__(self, idx:int):\n",
        "        inp = self.input_data[idx]\n",
        "        x, p, rho, u = inp\n",
        "        input_data = torch.stack((torch.as_tensor(x),torch.as_tensor(p),\n",
        "                                  torch.as_tensor(rho),torch.as_tensor(u)), dim=-1)\n",
        "\n",
        "        out = self.output_data[idx]\n",
        "        p, rho, u = out\n",
        "        output_data = torch.stack((torch.as_tensor(p),torch.as_tensor(rho),\n",
        "                                   torch.as_tensor(u)), dim=-1)\n",
        "        return (input_data.float().to(device), output_data.float().to(device))"
      ]
    },
    {
      "cell_type": "code",
      "execution_count": 36,
      "id": "405c84ef",
      "metadata": {
        "colab": {
          "base_uri": "https://localhost:8080/"
        },
        "id": "405c84ef",
        "outputId": "97e04648-5c3a-4696-dfb7-7f744f6fab13"
      },
      "outputs": [
        {
          "data": {
            "text/plain": [
              "125"
            ]
          },
          "execution_count": 36,
          "metadata": {},
          "output_type": "execute_result"
        }
      ],
      "source": [
        "train_dataset = SodShockData(\n",
        "    path=data_path,\n",
        "    n_sols=n_sols,\n",
        "    split=\"train\",\n",
        ")\n",
        "\n",
        "#train_dataset.normalize_training_data()\n",
        "\n",
        "train_loader = DataLoader(\n",
        "    train_dataset,\n",
        "    batch_size=B,\n",
        "    shuffle=True,\n",
        ")\n",
        "len(train_dataset)\n",
        "\n",
        "\n",
        "test_dataset = SodShockData(\n",
        "    path=data_path,\n",
        "    n_sols=n_sols,\n",
        "    split=\"test\",\n",
        ")\n",
        "\n",
        "#test_dataset.normalize_test_data(train_dataset.train_input_means, train_dataset.train_input_stds, train_dataset.train_output_means, train_dataset.train_output_stds)\n",
        "\n",
        "test_loader = DataLoader(\n",
        "    test_dataset,\n",
        "    batch_size=B,\n",
        "    shuffle=True,\n",
        ")\n",
        "len(test_dataset)"
      ]
    },
    {
      "cell_type": "code",
      "execution_count": 37,
      "id": "pTb_ZLuyRlIt",
      "metadata": {
        "colab": {
          "base_uri": "https://localhost:8080/"
        },
        "id": "pTb_ZLuyRlIt",
        "outputId": "64e50891-9645-4af3-a559-1bfe3d7134d6"
      },
      "outputs": [
        {
          "data": {
            "text/plain": [
              "tensor([1.0000, 1.0000, 1.0000, 1.0000, 1.0000, 1.0000, 1.0000, 1.0000, 1.0000,\n",
              "        1.0000, 1.0000, 1.0000, 1.0000, 1.0000, 1.0000, 1.0000, 1.0000, 1.0000,\n",
              "        1.0000, 1.0000, 1.0000, 1.0000, 1.0000, 1.0000, 1.0000, 1.0000, 1.0000,\n",
              "        1.0000, 1.0000, 1.0000, 1.0000, 1.0000, 1.0000, 1.0000, 1.0000, 1.0000,\n",
              "        1.0000, 1.0000, 1.0000, 1.0000, 1.0000, 1.0000, 1.0000, 1.0000, 1.0000,\n",
              "        1.0000, 1.0000, 1.0000, 1.0000, 1.0000, 1.0000, 1.0000, 1.0000, 1.0000,\n",
              "        1.0000, 1.0000, 1.0000, 1.0000, 1.0000, 1.0000, 1.0000, 1.0000, 1.0000,\n",
              "        1.0000, 1.0000, 1.0000, 1.0000, 1.0000, 1.0000, 1.0000, 1.0000, 1.0000,\n",
              "        1.0000, 1.0000, 1.0000, 1.0000, 1.0000, 1.0000, 1.0000, 1.0000, 1.0000,\n",
              "        1.0000, 1.0000, 1.0000, 1.0000, 1.0000, 1.0000, 1.0000, 1.0000, 1.0000,\n",
              "        1.0000, 1.0000, 1.0000, 1.0000, 1.0000, 1.0000, 1.0000, 1.0000, 1.0000,\n",
              "        1.0000, 1.0000, 1.0000, 1.0000, 1.0000, 1.0000, 1.0000, 1.0000, 1.0000,\n",
              "        1.0000, 1.0000, 1.0000, 1.0000, 1.0000, 1.0000, 1.0000, 1.0000, 1.0000,\n",
              "        1.0000, 1.0000, 1.0000, 1.0000, 1.0000, 1.0000, 1.0000, 1.0000, 1.0000,\n",
              "        1.0000, 1.0000, 1.0000, 1.0000, 1.0000, 1.0000, 1.0000, 1.0000, 1.0000,\n",
              "        1.0000, 1.0000, 1.0000, 1.0000, 1.0000, 1.0000, 1.0000, 1.0000, 1.0000,\n",
              "        1.0000, 1.0000, 1.0000, 1.0000, 1.0000, 1.0000, 1.0000, 1.0000, 1.0000,\n",
              "        1.0000, 1.0000, 1.0000, 1.0000, 1.0000, 1.0000, 1.0000, 1.0000, 1.0000,\n",
              "        1.0000, 1.0000, 1.0000, 1.0000, 1.0000, 1.0000, 1.0000, 1.0000, 1.0000,\n",
              "        1.0000, 1.0000, 1.0000, 1.0000, 1.0000, 1.0000, 1.0000, 1.0000, 1.0000,\n",
              "        1.0000, 1.0000, 1.0000, 1.0000, 1.0000, 1.0000, 1.0000, 1.0000, 1.0000,\n",
              "        1.0000, 1.0000, 0.9893, 0.9699, 0.9508, 0.9321, 0.9136, 0.8955, 0.8777,\n",
              "        0.8602, 0.8429, 0.8260, 0.8094, 0.7930, 0.7770, 0.7612, 0.7457, 0.7305,\n",
              "        0.7155, 0.7008, 0.6864, 0.6722, 0.6583, 0.6446, 0.6311, 0.6179, 0.6050,\n",
              "        0.5922, 0.5797, 0.5675, 0.5554, 0.5436, 0.5320, 0.5206, 0.5094, 0.4984,\n",
              "        0.4876, 0.4771, 0.4667, 0.4565, 0.4465, 0.4367, 0.4271, 0.4176, 0.4084,\n",
              "        0.3993, 0.3904, 0.3817, 0.3731, 0.3647, 0.3564, 0.3484, 0.3404, 0.3327,\n",
              "        0.3250, 0.3176, 0.3103, 0.3031, 0.3031, 0.3031, 0.3031, 0.3031, 0.3031,\n",
              "        0.3031, 0.3031, 0.3031, 0.3031, 0.3031, 0.3031, 0.3031, 0.3031, 0.3031,\n",
              "        0.3031, 0.3031, 0.3031, 0.3031, 0.3031, 0.3031, 0.3031, 0.3031, 0.3031,\n",
              "        0.3031, 0.3031, 0.3031, 0.3031, 0.3031, 0.3031, 0.3031, 0.3031, 0.3031,\n",
              "        0.3031, 0.3031, 0.3031, 0.3031, 0.3031, 0.3031, 0.3031, 0.3031, 0.3031,\n",
              "        0.3031, 0.3031, 0.3031, 0.3031, 0.3031, 0.3031, 0.3031, 0.3031, 0.3031,\n",
              "        0.3031, 0.3031, 0.3031, 0.3031, 0.3031, 0.3031, 0.3031, 0.3031, 0.3031,\n",
              "        0.3031, 0.3031, 0.3031, 0.3031, 0.3031, 0.3031, 0.3031, 0.3031, 0.3031,\n",
              "        0.3031, 0.3031, 0.3031, 0.3031, 0.3031, 0.3031, 0.3031, 0.3031, 0.3031,\n",
              "        0.3031, 0.3031, 0.3031, 0.3031, 0.3031, 0.3031, 0.3031, 0.3031, 0.3031,\n",
              "        0.3031, 0.3031, 0.3031, 0.3031, 0.1000, 0.1000, 0.1000, 0.1000, 0.1000,\n",
              "        0.1000, 0.1000, 0.1000, 0.1000, 0.1000, 0.1000, 0.1000, 0.1000, 0.1000,\n",
              "        0.1000, 0.1000, 0.1000, 0.1000, 0.1000, 0.1000, 0.1000, 0.1000, 0.1000,\n",
              "        0.1000, 0.1000, 0.1000, 0.1000, 0.1000, 0.1000, 0.1000, 0.1000, 0.1000,\n",
              "        0.1000, 0.1000, 0.1000, 0.1000, 0.1000, 0.1000, 0.1000, 0.1000, 0.1000,\n",
              "        0.1000, 0.1000, 0.1000, 0.1000, 0.1000, 0.1000, 0.1000, 0.1000, 0.1000,\n",
              "        0.1000, 0.1000, 0.1000, 0.1000, 0.1000, 0.1000, 0.1000, 0.1000, 0.1000,\n",
              "        0.1000, 0.1000, 0.1000, 0.1000, 0.1000, 0.1000, 0.1000, 0.1000, 0.1000,\n",
              "        0.1000, 0.1000, 0.1000, 0.1000, 0.1000, 0.1000, 0.1000, 0.1000, 0.1000,\n",
              "        0.1000, 0.1000, 0.1000, 0.1000, 0.1000, 0.1000, 0.1000, 0.1000, 0.1000,\n",
              "        0.1000, 0.1000, 0.1000, 0.1000, 0.1000, 0.1000, 0.1000, 0.1000, 0.1000,\n",
              "        0.1000, 0.1000, 0.1000, 0.1000, 0.1000, 0.1000, 0.1000, 0.1000, 0.1000,\n",
              "        0.1000, 0.1000, 0.1000, 0.1000, 0.1000, 0.1000, 0.1000, 0.1000, 0.1000,\n",
              "        0.1000, 0.1000, 0.1000, 0.1000, 0.1000, 0.1000, 0.1000, 0.1000, 0.1000,\n",
              "        0.1000, 0.1000, 0.1000, 0.1000, 0.1000, 0.1000, 0.1000, 0.1000, 0.1000,\n",
              "        0.1000, 0.1000, 0.1000, 0.1000, 0.1000, 0.1000, 0.1000, 0.1000, 0.1000,\n",
              "        0.1000, 0.1000, 0.1000, 0.1000, 0.1000, 0.1000, 0.1000, 0.1000, 0.1000,\n",
              "        0.1000, 0.1000, 0.1000, 0.1000, 0.1000, 0.1000, 0.1000, 0.1000, 0.1000,\n",
              "        0.1000, 0.1000, 0.1000, 0.1000, 0.1000], device='cuda:0')"
            ]
          },
          "execution_count": 37,
          "metadata": {},
          "output_type": "execute_result"
        }
      ],
      "source": [
        "input_data, output_data = train_dataset[0]\n",
        "input_data.shape\n",
        "#print(input_data.shape)\n",
        "#print(output_data.shape)\n",
        "torch.as_tensor(train_dataset.input_data).shape\n",
        "input_data[:,1]\n",
        "output_data[:,0]"
      ]
    },
    {
      "cell_type": "code",
      "execution_count": 98,
      "id": "4f71b2ca",
      "metadata": {
        "id": "4f71b2ca"
      },
      "outputs": [],
      "source": [
        "for batch in train_loader:\n",
        "    inputs, outputs = batch\n",
        "    # print(outputs)\n",
        "    break"
      ]
    },
    {
      "cell_type": "code",
      "execution_count": 8,
      "id": "xpOA_ymAbWmn",
      "metadata": {
        "colab": {
          "base_uri": "https://localhost:8080/",
          "height": 122
        },
        "id": "xpOA_ymAbWmn",
        "outputId": "789689ec-d05a-4317-c3a0-38b84f73917a"
      },
      "outputs": [
        {
          "data": {
            "application/vnd.google.colaboratory.intrinsic+json": {
              "type": "string"
            },
            "text/plain": [
              "'def model_train(model, train_loader, optimizer, loss_fn, epochs):\\n\\n    wandb.init(project=\"ENM_5320_Project\", name=\"fno-training\", reinit=\"create_new\")\\n\\n    # Log model configuration to wandb\\n    wandb.config.update({\\n        \"learning_rate\": optimizer.param_groups[0][\\'lr\\'],\\n        \"epochs\": epochs,\\n        \"batch_size\": train_loader.batch_size,\\n        \"loss_function\": type(loss_fn).__name__,\\n        # Add other relevant model parameters here\\n    })\\n\\n    # Watch model for gradients and parameters logging\\n    wandb.watch(model, log=\"all\", log_freq=100)\\n\\n    # Training loop\\n    for epoch in trange(epochs):\\n        for batch in train_loader:\\n            inputs, outputs = batch\\n            pred = model(inputs)\\n\\n            loss = loss_fn(pred, outputs)\\n\\n            optimizer.zero_grad()\\n            loss.backward()\\n            optimizer.step()\\n\\n        if epoch % 20 == 0 or epoch == epochs:\\n            wandb.log({\"train_loss\": loss})\\n            if epoch % 100 == 0:\\n                print(f\\'Epoch [{epoch+1}/{epochs}], Loss: {loss}\\')\\n\\n    # Finish wandb run\\n    wandb.finish()\\n    save_checkpoint(model, optimizer, epoch, \"fno\")\\n    return model.state_dict(), optimizer.state_dict()'"
            ]
          },
          "execution_count": 8,
          "metadata": {},
          "output_type": "execute_result"
        }
      ],
      "source": [
        "\"\"\"def model_train(model, train_loader, optimizer, loss_fn, epochs):\n",
        "\n",
        "    wandb.init(project=\"ENM_5320_Project\", name=\"fno-training\", reinit=\"create_new\")\n",
        "\n",
        "    # Log model configuration to wandb\n",
        "    wandb.config.update({\n",
        "        \"learning_rate\": optimizer.param_groups[0]['lr'],\n",
        "        \"epochs\": epochs,\n",
        "        \"batch_size\": train_loader.batch_size,\n",
        "        \"loss_function\": type(loss_fn).__name__,\n",
        "        # Add other relevant model parameters here\n",
        "    })\n",
        "\n",
        "    # Watch model for gradients and parameters logging\n",
        "    wandb.watch(model, log=\"all\", log_freq=100)\n",
        "\n",
        "    # Training loop\n",
        "    for epoch in trange(epochs):\n",
        "        for batch in train_loader:\n",
        "            inputs, outputs = batch\n",
        "            pred = model(inputs)\n",
        "\n",
        "            loss = loss_fn(pred, outputs)\n",
        "\n",
        "            optimizer.zero_grad()\n",
        "            loss.backward()\n",
        "            optimizer.step()\n",
        "\n",
        "        if epoch % 20 == 0 or epoch == epochs:\n",
        "            wandb.log({\"train_loss\": loss})\n",
        "            if epoch % 100 == 0:\n",
        "                print(f'Epoch [{epoch+1}/{epochs}], Loss: {loss}')\n",
        "\n",
        "    # Finish wandb run\n",
        "    wandb.finish()\n",
        "    save_checkpoint(model, optimizer, epoch, \"fno\")\n",
        "    return model.state_dict(), optimizer.state_dict()\"\"\""
      ]
    },
    {
      "cell_type": "markdown",
      "id": "iN6VF3riW3rO",
      "metadata": {
        "id": "iN6VF3riW3rO"
      },
      "source": [
        "# Train and Save Model"
      ]
    },
    {
      "cell_type": "code",
      "execution_count": 38,
      "id": "a69b8a68",
      "metadata": {
        "colab": {
          "base_uri": "https://localhost:8080/"
        },
        "id": "a69b8a68",
        "outputId": "750ad324-a23f-4fc9-af25-2b419160436c"
      },
      "outputs": [
        {
          "name": "stderr",
          "output_type": "stream",
          "text": [
            "  0%|          | 1/10000 [00:01<4:47:29,  1.73s/it]"
          ]
        },
        {
          "name": "stdout",
          "output_type": "stream",
          "text": [
            "Epoch [1/10000], Training Loss: 1.3168913125991821\n",
            "Epoch [1/10000], Validation Loss: 2.6455373764038086\n"
          ]
        },
        {
          "name": "stderr",
          "output_type": "stream",
          "text": [
            "  1%|          | 101/10000 [00:27<40:23,  4.08it/s]"
          ]
        },
        {
          "name": "stdout",
          "output_type": "stream",
          "text": [
            "Epoch [101/10000], Training Loss: 0.003961660899221897\n",
            "Epoch [101/10000], Validation Loss: 0.08303119987249374\n"
          ]
        },
        {
          "name": "stderr",
          "output_type": "stream",
          "text": [
            "  2%|▏         | 201/10000 [00:51<51:04,  3.20it/s]"
          ]
        },
        {
          "name": "stdout",
          "output_type": "stream",
          "text": [
            "Epoch [201/10000], Training Loss: 0.0021098055876791477\n",
            "Epoch [201/10000], Validation Loss: 0.03230041265487671\n"
          ]
        },
        {
          "name": "stderr",
          "output_type": "stream",
          "text": [
            "  3%|▎         | 301/10000 [01:15<38:20,  4.22it/s]"
          ]
        },
        {
          "name": "stdout",
          "output_type": "stream",
          "text": [
            "Epoch [301/10000], Training Loss: 0.0011056155199185014\n",
            "Epoch [301/10000], Validation Loss: 0.03451855480670929\n"
          ]
        },
        {
          "name": "stderr",
          "output_type": "stream",
          "text": [
            "  4%|▍         | 401/10000 [01:40<37:37,  4.25it/s]"
          ]
        },
        {
          "name": "stdout",
          "output_type": "stream",
          "text": [
            "Epoch [401/10000], Training Loss: 0.0007058788905851543\n",
            "Epoch [401/10000], Validation Loss: 0.04166422411799431\n"
          ]
        },
        {
          "name": "stderr",
          "output_type": "stream",
          "text": [
            "  5%|▌         | 501/10000 [02:05<37:31,  4.22it/s]"
          ]
        },
        {
          "name": "stdout",
          "output_type": "stream",
          "text": [
            "Epoch [501/10000], Training Loss: 0.0005773723823949695\n",
            "Epoch [501/10000], Validation Loss: 0.015396215952932835\n"
          ]
        },
        {
          "name": "stderr",
          "output_type": "stream",
          "text": [
            "  6%|▌         | 601/10000 [02:29<37:02,  4.23it/s]"
          ]
        },
        {
          "name": "stdout",
          "output_type": "stream",
          "text": [
            "Epoch [601/10000], Training Loss: 0.0004987870343029499\n",
            "Epoch [601/10000], Validation Loss: 0.03593837469816208\n"
          ]
        },
        {
          "name": "stderr",
          "output_type": "stream",
          "text": [
            "  7%|▋         | 701/10000 [02:54<37:09,  4.17it/s]"
          ]
        },
        {
          "name": "stdout",
          "output_type": "stream",
          "text": [
            "Epoch [701/10000], Training Loss: 0.0004598695959430188\n",
            "Epoch [701/10000], Validation Loss: 0.05980107560753822\n"
          ]
        },
        {
          "name": "stderr",
          "output_type": "stream",
          "text": [
            "  8%|▊         | 801/10000 [03:19<39:18,  3.90it/s]"
          ]
        },
        {
          "name": "stdout",
          "output_type": "stream",
          "text": [
            "Epoch [801/10000], Training Loss: 0.00041419535409659147\n",
            "Epoch [801/10000], Validation Loss: 0.03771032765507698\n"
          ]
        },
        {
          "name": "stderr",
          "output_type": "stream",
          "text": [
            "  9%|▉         | 901/10000 [03:44<46:12,  3.28it/s]"
          ]
        },
        {
          "name": "stdout",
          "output_type": "stream",
          "text": [
            "Epoch [901/10000], Training Loss: 0.0003444697067607194\n",
            "Epoch [901/10000], Validation Loss: 0.017483292147517204\n"
          ]
        },
        {
          "name": "stderr",
          "output_type": "stream",
          "text": [
            " 10%|█         | 1001/10000 [04:07<35:00,  4.28it/s]"
          ]
        },
        {
          "name": "stdout",
          "output_type": "stream",
          "text": [
            "Epoch [1001/10000], Training Loss: 0.00035545098944567144\n",
            "Epoch [1001/10000], Validation Loss: 0.03538736328482628\n"
          ]
        },
        {
          "name": "stderr",
          "output_type": "stream",
          "text": [
            " 11%|█         | 1101/10000 [04:32<34:42,  4.27it/s]"
          ]
        },
        {
          "name": "stdout",
          "output_type": "stream",
          "text": [
            "Epoch [1101/10000], Training Loss: 0.0002274269936606288\n",
            "Epoch [1101/10000], Validation Loss: 0.035938166081905365\n"
          ]
        },
        {
          "name": "stderr",
          "output_type": "stream",
          "text": [
            " 12%|█▏        | 1201/10000 [04:57<34:27,  4.26it/s]"
          ]
        },
        {
          "name": "stdout",
          "output_type": "stream",
          "text": [
            "Epoch [1201/10000], Training Loss: 0.0002689461980480701\n",
            "Epoch [1201/10000], Validation Loss: 0.016557207331061363\n"
          ]
        },
        {
          "name": "stderr",
          "output_type": "stream",
          "text": [
            " 13%|█▎        | 1301/10000 [05:22<34:32,  4.20it/s]"
          ]
        },
        {
          "name": "stdout",
          "output_type": "stream",
          "text": [
            "Epoch [1301/10000], Training Loss: 0.00022428027295973152\n",
            "Epoch [1301/10000], Validation Loss: 0.04570891335606575\n"
          ]
        },
        {
          "name": "stderr",
          "output_type": "stream",
          "text": [
            " 14%|█▍        | 1401/10000 [05:46<34:53,  4.11it/s]"
          ]
        },
        {
          "name": "stdout",
          "output_type": "stream",
          "text": [
            "Epoch [1401/10000], Training Loss: 0.0002083184226648882\n",
            "Epoch [1401/10000], Validation Loss: 0.021598633378744125\n"
          ]
        },
        {
          "name": "stderr",
          "output_type": "stream",
          "text": [
            " 15%|█▌        | 1501/10000 [06:10<45:12,  3.13it/s]"
          ]
        },
        {
          "name": "stdout",
          "output_type": "stream",
          "text": [
            "Epoch [1501/10000], Training Loss: 0.0003335028304718435\n",
            "Epoch [1501/10000], Validation Loss: 0.02909800224006176\n"
          ]
        },
        {
          "name": "stderr",
          "output_type": "stream",
          "text": [
            " 16%|█▌        | 1601/10000 [06:34<36:49,  3.80it/s]"
          ]
        },
        {
          "name": "stdout",
          "output_type": "stream",
          "text": [
            "Epoch [1601/10000], Training Loss: 0.0003681983216665685\n",
            "Epoch [1601/10000], Validation Loss: 0.007541043218225241\n"
          ]
        },
        {
          "name": "stderr",
          "output_type": "stream",
          "text": [
            " 17%|█▋        | 1701/10000 [06:59<33:15,  4.16it/s]"
          ]
        },
        {
          "name": "stdout",
          "output_type": "stream",
          "text": [
            "Epoch [1701/10000], Training Loss: 0.0002368880232097581\n",
            "Epoch [1701/10000], Validation Loss: 0.02813572995364666\n"
          ]
        },
        {
          "name": "stderr",
          "output_type": "stream",
          "text": [
            " 18%|█▊        | 1801/10000 [07:24<32:00,  4.27it/s]"
          ]
        },
        {
          "name": "stdout",
          "output_type": "stream",
          "text": [
            "Epoch [1801/10000], Training Loss: 0.0002632673131301999\n",
            "Epoch [1801/10000], Validation Loss: 0.028714634478092194\n"
          ]
        },
        {
          "name": "stderr",
          "output_type": "stream",
          "text": [
            " 19%|█▉        | 1901/10000 [07:48<32:02,  4.21it/s]"
          ]
        },
        {
          "name": "stdout",
          "output_type": "stream",
          "text": [
            "Epoch [1901/10000], Training Loss: 0.0002761651703622192\n",
            "Epoch [1901/10000], Validation Loss: 0.01686297170817852\n"
          ]
        },
        {
          "name": "stderr",
          "output_type": "stream",
          "text": [
            " 20%|██        | 2001/10000 [08:14<30:25,  4.38it/s]"
          ]
        },
        {
          "name": "stdout",
          "output_type": "stream",
          "text": [
            "Epoch [2001/10000], Training Loss: 0.0001902309595607221\n",
            "Epoch [2001/10000], Validation Loss: 0.006874467711895704\n"
          ]
        },
        {
          "name": "stderr",
          "output_type": "stream",
          "text": [
            " 21%|██        | 2101/10000 [08:38<32:05,  4.10it/s]"
          ]
        },
        {
          "name": "stdout",
          "output_type": "stream",
          "text": [
            "Epoch [2101/10000], Training Loss: 0.0001941685623023659\n",
            "Epoch [2101/10000], Validation Loss: 0.03423600271344185\n"
          ]
        },
        {
          "name": "stderr",
          "output_type": "stream",
          "text": [
            " 22%|██▏       | 2201/10000 [09:02<40:00,  3.25it/s]"
          ]
        },
        {
          "name": "stdout",
          "output_type": "stream",
          "text": [
            "Epoch [2201/10000], Training Loss: 0.00015432530199177563\n",
            "Epoch [2201/10000], Validation Loss: 0.04187407344579697\n"
          ]
        },
        {
          "name": "stderr",
          "output_type": "stream",
          "text": [
            " 23%|██▎       | 2301/10000 [09:26<29:48,  4.31it/s]"
          ]
        },
        {
          "name": "stdout",
          "output_type": "stream",
          "text": [
            "Epoch [2301/10000], Training Loss: 0.00030987447826191783\n",
            "Epoch [2301/10000], Validation Loss: 0.042038992047309875\n"
          ]
        },
        {
          "name": "stderr",
          "output_type": "stream",
          "text": [
            " 24%|██▍       | 2401/10000 [09:50<29:54,  4.23it/s]"
          ]
        },
        {
          "name": "stdout",
          "output_type": "stream",
          "text": [
            "Epoch [2401/10000], Training Loss: 0.0001473118318244815\n",
            "Epoch [2401/10000], Validation Loss: 0.011694945394992828\n"
          ]
        },
        {
          "name": "stderr",
          "output_type": "stream",
          "text": [
            " 25%|██▌       | 2501/10000 [10:15<29:21,  4.26it/s]"
          ]
        },
        {
          "name": "stdout",
          "output_type": "stream",
          "text": [
            "Epoch [2501/10000], Training Loss: 0.0002347591071156785\n",
            "Epoch [2501/10000], Validation Loss: 0.05052315443754196\n"
          ]
        },
        {
          "name": "stderr",
          "output_type": "stream",
          "text": [
            " 26%|██▌       | 2601/10000 [10:39<29:08,  4.23it/s]"
          ]
        },
        {
          "name": "stdout",
          "output_type": "stream",
          "text": [
            "Epoch [2601/10000], Training Loss: 0.00012303941184654832\n",
            "Epoch [2601/10000], Validation Loss: 0.017077095806598663\n"
          ]
        },
        {
          "name": "stderr",
          "output_type": "stream",
          "text": [
            " 27%|██▋       | 2701/10000 [11:04<29:28,  4.13it/s]"
          ]
        },
        {
          "name": "stdout",
          "output_type": "stream",
          "text": [
            "Epoch [2701/10000], Training Loss: 0.00016978052735794336\n",
            "Epoch [2701/10000], Validation Loss: 0.020449865609407425\n"
          ]
        },
        {
          "name": "stderr",
          "output_type": "stream",
          "text": [
            " 28%|██▊       | 2801/10000 [11:29<35:57,  3.34it/s]"
          ]
        },
        {
          "name": "stdout",
          "output_type": "stream",
          "text": [
            "Epoch [2801/10000], Training Loss: 0.00012816736125387251\n",
            "Epoch [2801/10000], Validation Loss: 0.045611996203660965\n"
          ]
        },
        {
          "name": "stderr",
          "output_type": "stream",
          "text": [
            " 29%|██▉       | 2901/10000 [11:52<33:37,  3.52it/s]"
          ]
        },
        {
          "name": "stdout",
          "output_type": "stream",
          "text": [
            "Epoch [2901/10000], Training Loss: 0.00020035385387018323\n",
            "Epoch [2901/10000], Validation Loss: 0.02686617523431778\n"
          ]
        },
        {
          "name": "stderr",
          "output_type": "stream",
          "text": [
            " 30%|███       | 3001/10000 [12:16<27:00,  4.32it/s]"
          ]
        },
        {
          "name": "stdout",
          "output_type": "stream",
          "text": [
            "Epoch [3001/10000], Training Loss: 0.00010968160495394841\n",
            "Epoch [3001/10000], Validation Loss: 0.011720214039087296\n"
          ]
        },
        {
          "name": "stderr",
          "output_type": "stream",
          "text": [
            " 31%|███       | 3101/10000 [12:41<26:51,  4.28it/s]"
          ]
        },
        {
          "name": "stdout",
          "output_type": "stream",
          "text": [
            "Epoch [3101/10000], Training Loss: 0.0001261068828171119\n",
            "Epoch [3101/10000], Validation Loss: 0.00669454038143158\n"
          ]
        },
        {
          "name": "stderr",
          "output_type": "stream",
          "text": [
            " 32%|███▏      | 3201/10000 [13:05<26:59,  4.20it/s]"
          ]
        },
        {
          "name": "stdout",
          "output_type": "stream",
          "text": [
            "Epoch [3201/10000], Training Loss: 0.00010557544737821445\n",
            "Epoch [3201/10000], Validation Loss: 0.017055179923772812\n"
          ]
        },
        {
          "name": "stderr",
          "output_type": "stream",
          "text": [
            " 33%|███▎      | 3301/10000 [13:30<26:50,  4.16it/s]"
          ]
        },
        {
          "name": "stdout",
          "output_type": "stream",
          "text": [
            "Epoch [3301/10000], Training Loss: 9.027360647451133e-05\n",
            "Epoch [3301/10000], Validation Loss: 0.025738192722201347\n"
          ]
        },
        {
          "name": "stderr",
          "output_type": "stream",
          "text": [
            " 34%|███▍      | 3401/10000 [13:54<32:10,  3.42it/s]"
          ]
        },
        {
          "name": "stdout",
          "output_type": "stream",
          "text": [
            "Epoch [3401/10000], Training Loss: 0.0002974827657453716\n",
            "Epoch [3401/10000], Validation Loss: 0.009671510197222233\n"
          ]
        },
        {
          "name": "stderr",
          "output_type": "stream",
          "text": [
            " 35%|███▌      | 3501/10000 [14:18<32:20,  3.35it/s]"
          ]
        },
        {
          "name": "stdout",
          "output_type": "stream",
          "text": [
            "Epoch [3501/10000], Training Loss: 0.00017232593381777406\n",
            "Epoch [3501/10000], Validation Loss: 0.023237252607941628\n"
          ]
        },
        {
          "name": "stderr",
          "output_type": "stream",
          "text": [
            " 36%|███▌      | 3601/10000 [14:43<24:56,  4.28it/s]"
          ]
        },
        {
          "name": "stdout",
          "output_type": "stream",
          "text": [
            "Epoch [3601/10000], Training Loss: 9.237619087798521e-05\n",
            "Epoch [3601/10000], Validation Loss: 0.02681807056069374\n"
          ]
        },
        {
          "name": "stderr",
          "output_type": "stream",
          "text": [
            " 37%|███▋      | 3701/10000 [15:07<24:24,  4.30it/s]"
          ]
        },
        {
          "name": "stdout",
          "output_type": "stream",
          "text": [
            "Epoch [3701/10000], Training Loss: 0.00010809867671923712\n",
            "Epoch [3701/10000], Validation Loss: 0.022562863305211067\n"
          ]
        },
        {
          "name": "stderr",
          "output_type": "stream",
          "text": [
            " 38%|███▊      | 3801/10000 [15:32<24:32,  4.21it/s]"
          ]
        },
        {
          "name": "stdout",
          "output_type": "stream",
          "text": [
            "Epoch [3801/10000], Training Loss: 0.0002897582307923585\n",
            "Epoch [3801/10000], Validation Loss: 0.018219945952296257\n"
          ]
        },
        {
          "name": "stderr",
          "output_type": "stream",
          "text": [
            " 39%|███▉      | 3901/10000 [15:56<23:54,  4.25it/s]"
          ]
        },
        {
          "name": "stdout",
          "output_type": "stream",
          "text": [
            "Epoch [3901/10000], Training Loss: 0.00010118645877810195\n",
            "Epoch [3901/10000], Validation Loss: 0.027720298618078232\n"
          ]
        },
        {
          "name": "stderr",
          "output_type": "stream",
          "text": [
            " 40%|████      | 4001/10000 [16:21<24:48,  4.03it/s]"
          ]
        },
        {
          "name": "stdout",
          "output_type": "stream",
          "text": [
            "Epoch [4001/10000], Training Loss: 9.650894207879901e-05\n",
            "Epoch [4001/10000], Validation Loss: 0.010304237715899944\n"
          ]
        },
        {
          "name": "stderr",
          "output_type": "stream",
          "text": [
            " 41%|████      | 4101/10000 [16:45<29:40,  3.31it/s]"
          ]
        },
        {
          "name": "stdout",
          "output_type": "stream",
          "text": [
            "Epoch [4101/10000], Training Loss: 0.00011642811296042055\n",
            "Epoch [4101/10000], Validation Loss: 0.024178333580493927\n"
          ]
        },
        {
          "name": "stderr",
          "output_type": "stream",
          "text": [
            " 42%|████▏     | 4201/10000 [17:09<22:11,  4.36it/s]"
          ]
        },
        {
          "name": "stdout",
          "output_type": "stream",
          "text": [
            "Epoch [4201/10000], Training Loss: 0.00019679767137859017\n",
            "Epoch [4201/10000], Validation Loss: 0.012903259135782719\n"
          ]
        },
        {
          "name": "stderr",
          "output_type": "stream",
          "text": [
            " 43%|████▎     | 4301/10000 [17:33<22:18,  4.26it/s]"
          ]
        },
        {
          "name": "stdout",
          "output_type": "stream",
          "text": [
            "Epoch [4301/10000], Training Loss: 9.007939661387354e-05\n",
            "Epoch [4301/10000], Validation Loss: 0.01926783099770546\n"
          ]
        },
        {
          "name": "stderr",
          "output_type": "stream",
          "text": [
            " 44%|████▍     | 4401/10000 [17:58<25:30,  3.66it/s]"
          ]
        },
        {
          "name": "stdout",
          "output_type": "stream",
          "text": [
            "Epoch [4401/10000], Training Loss: 0.00013364457117859274\n",
            "Epoch [4401/10000], Validation Loss: 0.003943378571420908\n"
          ]
        },
        {
          "name": "stderr",
          "output_type": "stream",
          "text": [
            " 45%|████▌     | 4501/10000 [18:23<22:01,  4.16it/s]"
          ]
        },
        {
          "name": "stdout",
          "output_type": "stream",
          "text": [
            "Epoch [4501/10000], Training Loss: 0.00024135102285072207\n",
            "Epoch [4501/10000], Validation Loss: 0.011548783630132675\n"
          ]
        },
        {
          "name": "stderr",
          "output_type": "stream",
          "text": [
            " 46%|████▌     | 4601/10000 [18:47<21:53,  4.11it/s]"
          ]
        },
        {
          "name": "stdout",
          "output_type": "stream",
          "text": [
            "Epoch [4601/10000], Training Loss: 0.00022448558593168855\n",
            "Epoch [4601/10000], Validation Loss: 0.0220283605158329\n"
          ]
        },
        {
          "name": "stderr",
          "output_type": "stream",
          "text": [
            " 47%|████▋     | 4701/10000 [19:12<27:37,  3.20it/s]"
          ]
        },
        {
          "name": "stdout",
          "output_type": "stream",
          "text": [
            "Epoch [4701/10000], Training Loss: 9.996806329581887e-05\n",
            "Epoch [4701/10000], Validation Loss: 0.008260110393166542\n"
          ]
        },
        {
          "name": "stderr",
          "output_type": "stream",
          "text": [
            " 48%|████▊     | 4801/10000 [19:36<24:04,  3.60it/s]"
          ]
        },
        {
          "name": "stdout",
          "output_type": "stream",
          "text": [
            "Epoch [4801/10000], Training Loss: 0.00022018856543581933\n",
            "Epoch [4801/10000], Validation Loss: 0.02008085884153843\n"
          ]
        },
        {
          "name": "stderr",
          "output_type": "stream",
          "text": [
            " 49%|████▉     | 4901/10000 [20:00<19:59,  4.25it/s]"
          ]
        },
        {
          "name": "stdout",
          "output_type": "stream",
          "text": [
            "Epoch [4901/10000], Training Loss: 0.00015714927576482296\n",
            "Epoch [4901/10000], Validation Loss: 0.012184332124888897\n"
          ]
        },
        {
          "name": "stderr",
          "output_type": "stream",
          "text": [
            " 50%|█████     | 5001/10000 [20:24<19:07,  4.36it/s]"
          ]
        },
        {
          "name": "stdout",
          "output_type": "stream",
          "text": [
            "Epoch [5001/10000], Training Loss: 6.216726615093648e-05\n",
            "Epoch [5001/10000], Validation Loss: 0.01620401442050934\n"
          ]
        },
        {
          "name": "stderr",
          "output_type": "stream",
          "text": [
            " 51%|█████     | 5101/10000 [20:48<19:07,  4.27it/s]"
          ]
        },
        {
          "name": "stdout",
          "output_type": "stream",
          "text": [
            "Epoch [5101/10000], Training Loss: 6.091881368774921e-05\n",
            "Epoch [5101/10000], Validation Loss: 0.007139584049582481\n"
          ]
        },
        {
          "name": "stderr",
          "output_type": "stream",
          "text": [
            " 52%|█████▏    | 5201/10000 [21:13<24:08,  3.31it/s]"
          ]
        },
        {
          "name": "stdout",
          "output_type": "stream",
          "text": [
            "Epoch [5201/10000], Training Loss: 0.00021596603619400412\n",
            "Epoch [5201/10000], Validation Loss: 0.011829497292637825\n"
          ]
        },
        {
          "name": "stderr",
          "output_type": "stream",
          "text": [
            " 53%|█████▎    | 5301/10000 [21:37<22:18,  3.51it/s]"
          ]
        },
        {
          "name": "stdout",
          "output_type": "stream",
          "text": [
            "Epoch [5301/10000], Training Loss: 0.00017875139019452035\n",
            "Epoch [5301/10000], Validation Loss: 0.0069826701655983925\n"
          ]
        },
        {
          "name": "stderr",
          "output_type": "stream",
          "text": [
            " 54%|█████▍    | 5401/10000 [22:01<21:51,  3.51it/s]"
          ]
        },
        {
          "name": "stdout",
          "output_type": "stream",
          "text": [
            "Epoch [5401/10000], Training Loss: 7.836618169676512e-05\n",
            "Epoch [5401/10000], Validation Loss: 0.03133155032992363\n"
          ]
        },
        {
          "name": "stderr",
          "output_type": "stream",
          "text": [
            " 55%|█████▌    | 5501/10000 [22:25<17:33,  4.27it/s]"
          ]
        },
        {
          "name": "stdout",
          "output_type": "stream",
          "text": [
            "Epoch [5501/10000], Training Loss: 0.00012985416105948389\n",
            "Epoch [5501/10000], Validation Loss: 0.01781255565583706\n"
          ]
        },
        {
          "name": "stderr",
          "output_type": "stream",
          "text": [
            " 56%|█████▌    | 5601/10000 [22:49<17:00,  4.31it/s]"
          ]
        },
        {
          "name": "stdout",
          "output_type": "stream",
          "text": [
            "Epoch [5601/10000], Training Loss: 0.0002250547258881852\n",
            "Epoch [5601/10000], Validation Loss: 0.005138103384524584\n"
          ]
        },
        {
          "name": "stderr",
          "output_type": "stream",
          "text": [
            " 57%|█████▋    | 5701/10000 [23:13<16:37,  4.31it/s]"
          ]
        },
        {
          "name": "stdout",
          "output_type": "stream",
          "text": [
            "Epoch [5701/10000], Training Loss: 0.00018212197755929083\n",
            "Epoch [5701/10000], Validation Loss: 0.013809441588819027\n"
          ]
        },
        {
          "name": "stderr",
          "output_type": "stream",
          "text": [
            " 58%|█████▊    | 5801/10000 [23:37<16:49,  4.16it/s]"
          ]
        },
        {
          "name": "stdout",
          "output_type": "stream",
          "text": [
            "Epoch [5801/10000], Training Loss: 0.00021193113934714347\n",
            "Epoch [5801/10000], Validation Loss: 0.018479475751519203\n"
          ]
        },
        {
          "name": "stderr",
          "output_type": "stream",
          "text": [
            " 59%|█████▉    | 5901/10000 [24:01<20:17,  3.37it/s]"
          ]
        },
        {
          "name": "stdout",
          "output_type": "stream",
          "text": [
            "Epoch [5901/10000], Training Loss: 0.00011811496369773522\n",
            "Epoch [5901/10000], Validation Loss: 0.014277822338044643\n"
          ]
        },
        {
          "name": "stderr",
          "output_type": "stream",
          "text": [
            " 60%|██████    | 6001/10000 [24:25<20:22,  3.27it/s]"
          ]
        },
        {
          "name": "stdout",
          "output_type": "stream",
          "text": [
            "Epoch [6001/10000], Training Loss: 8.885425631888211e-05\n",
            "Epoch [6001/10000], Validation Loss: 0.032458193600177765\n"
          ]
        },
        {
          "name": "stderr",
          "output_type": "stream",
          "text": [
            " 61%|██████    | 6101/10000 [24:50<15:14,  4.26it/s]"
          ]
        },
        {
          "name": "stdout",
          "output_type": "stream",
          "text": [
            "Epoch [6101/10000], Training Loss: 0.00019382176105864346\n",
            "Epoch [6101/10000], Validation Loss: 0.02210875041782856\n"
          ]
        },
        {
          "name": "stderr",
          "output_type": "stream",
          "text": [
            " 62%|██████▏   | 6201/10000 [25:14<14:42,  4.30it/s]"
          ]
        },
        {
          "name": "stdout",
          "output_type": "stream",
          "text": [
            "Epoch [6201/10000], Training Loss: 8.93041433300823e-05\n",
            "Epoch [6201/10000], Validation Loss: 0.005233682692050934\n"
          ]
        },
        {
          "name": "stderr",
          "output_type": "stream",
          "text": [
            " 63%|██████▎   | 6301/10000 [25:38<14:26,  4.27it/s]"
          ]
        },
        {
          "name": "stdout",
          "output_type": "stream",
          "text": [
            "Epoch [6301/10000], Training Loss: 0.00023220537696033716\n",
            "Epoch [6301/10000], Validation Loss: 0.022160984575748444\n"
          ]
        },
        {
          "name": "stderr",
          "output_type": "stream",
          "text": [
            " 64%|██████▍   | 6401/10000 [26:02<16:23,  3.66it/s]"
          ]
        },
        {
          "name": "stdout",
          "output_type": "stream",
          "text": [
            "Epoch [6401/10000], Training Loss: 0.000135068767121993\n",
            "Epoch [6401/10000], Validation Loss: 0.03241248056292534\n"
          ]
        },
        {
          "name": "stderr",
          "output_type": "stream",
          "text": [
            " 65%|██████▌   | 6501/10000 [26:26<16:31,  3.53it/s]"
          ]
        },
        {
          "name": "stdout",
          "output_type": "stream",
          "text": [
            "Epoch [6501/10000], Training Loss: 5.3031184506835416e-05\n",
            "Epoch [6501/10000], Validation Loss: 0.018816841766238213\n"
          ]
        },
        {
          "name": "stderr",
          "output_type": "stream",
          "text": [
            " 66%|██████▌   | 6601/10000 [26:50<12:56,  4.38it/s]"
          ]
        },
        {
          "name": "stdout",
          "output_type": "stream",
          "text": [
            "Epoch [6601/10000], Training Loss: 0.00013594636402558535\n",
            "Epoch [6601/10000], Validation Loss: 0.02107362076640129\n"
          ]
        },
        {
          "name": "stderr",
          "output_type": "stream",
          "text": [
            " 67%|██████▋   | 6701/10000 [27:14<12:28,  4.41it/s]"
          ]
        },
        {
          "name": "stdout",
          "output_type": "stream",
          "text": [
            "Epoch [6701/10000], Training Loss: 0.0001067359116859734\n",
            "Epoch [6701/10000], Validation Loss: 0.014677821658551693\n"
          ]
        },
        {
          "name": "stderr",
          "output_type": "stream",
          "text": [
            " 68%|██████▊   | 6801/10000 [27:38<12:17,  4.34it/s]"
          ]
        },
        {
          "name": "stdout",
          "output_type": "stream",
          "text": [
            "Epoch [6801/10000], Training Loss: 6.632538133999333e-05\n",
            "Epoch [6801/10000], Validation Loss: 0.015914814546704292\n"
          ]
        },
        {
          "name": "stderr",
          "output_type": "stream",
          "text": [
            " 69%|██████▉   | 6901/10000 [28:03<12:12,  4.23it/s]"
          ]
        },
        {
          "name": "stdout",
          "output_type": "stream",
          "text": [
            "Epoch [6901/10000], Training Loss: 0.00011376750626368448\n",
            "Epoch [6901/10000], Validation Loss: 0.027170073240995407\n"
          ]
        },
        {
          "name": "stderr",
          "output_type": "stream",
          "text": [
            " 70%|███████   | 7001/10000 [28:27<15:31,  3.22it/s]"
          ]
        },
        {
          "name": "stdout",
          "output_type": "stream",
          "text": [
            "Epoch [7001/10000], Training Loss: 7.372177060460672e-05\n",
            "Epoch [7001/10000], Validation Loss: 0.014525000937283039\n"
          ]
        },
        {
          "name": "stderr",
          "output_type": "stream",
          "text": [
            " 71%|███████   | 7101/10000 [28:50<13:11,  3.66it/s]"
          ]
        },
        {
          "name": "stdout",
          "output_type": "stream",
          "text": [
            "Epoch [7101/10000], Training Loss: 0.00011109106708317995\n",
            "Epoch [7101/10000], Validation Loss: 0.007443949580192566\n"
          ]
        },
        {
          "name": "stderr",
          "output_type": "stream",
          "text": [
            " 72%|███████▏  | 7201/10000 [29:14<10:47,  4.32it/s]"
          ]
        },
        {
          "name": "stdout",
          "output_type": "stream",
          "text": [
            "Epoch [7201/10000], Training Loss: 0.00014460714010056108\n",
            "Epoch [7201/10000], Validation Loss: 0.01645752228796482\n"
          ]
        },
        {
          "name": "stderr",
          "output_type": "stream",
          "text": [
            " 73%|███████▎  | 7301/10000 [29:38<10:36,  4.24it/s]"
          ]
        },
        {
          "name": "stdout",
          "output_type": "stream",
          "text": [
            "Epoch [7301/10000], Training Loss: 0.000623142987024039\n",
            "Epoch [7301/10000], Validation Loss: 0.02875622548162937\n"
          ]
        },
        {
          "name": "stderr",
          "output_type": "stream",
          "text": [
            " 74%|███████▍  | 7401/10000 [30:02<10:12,  4.24it/s]"
          ]
        },
        {
          "name": "stdout",
          "output_type": "stream",
          "text": [
            "Epoch [7401/10000], Training Loss: 0.00014515094517264515\n",
            "Epoch [7401/10000], Validation Loss: 0.0355101004242897\n"
          ]
        },
        {
          "name": "stderr",
          "output_type": "stream",
          "text": [
            " 75%|███████▌  | 7501/10000 [30:27<10:17,  4.05it/s]"
          ]
        },
        {
          "name": "stdout",
          "output_type": "stream",
          "text": [
            "Epoch [7501/10000], Training Loss: 0.00019346205226611346\n",
            "Epoch [7501/10000], Validation Loss: 0.01431864220649004\n"
          ]
        },
        {
          "name": "stderr",
          "output_type": "stream",
          "text": [
            " 76%|███████▌  | 7601/10000 [30:50<11:32,  3.46it/s]"
          ]
        },
        {
          "name": "stdout",
          "output_type": "stream",
          "text": [
            "Epoch [7601/10000], Training Loss: 0.00016098431660793722\n",
            "Epoch [7601/10000], Validation Loss: 0.025883639231324196\n"
          ]
        },
        {
          "name": "stderr",
          "output_type": "stream",
          "text": [
            " 77%|███████▋  | 7701/10000 [31:15<08:53,  4.31it/s]"
          ]
        },
        {
          "name": "stdout",
          "output_type": "stream",
          "text": [
            "Epoch [7701/10000], Training Loss: 0.00010655740334186703\n",
            "Epoch [7701/10000], Validation Loss: 0.02079222910106182\n"
          ]
        },
        {
          "name": "stderr",
          "output_type": "stream",
          "text": [
            " 78%|███████▊  | 7801/10000 [31:39<08:37,  4.25it/s]"
          ]
        },
        {
          "name": "stdout",
          "output_type": "stream",
          "text": [
            "Epoch [7801/10000], Training Loss: 4.005138544016518e-05\n",
            "Epoch [7801/10000], Validation Loss: 0.010017047636210918\n"
          ]
        },
        {
          "name": "stderr",
          "output_type": "stream",
          "text": [
            " 79%|███████▉  | 7901/10000 [32:03<08:19,  4.20it/s]"
          ]
        },
        {
          "name": "stdout",
          "output_type": "stream",
          "text": [
            "Epoch [7901/10000], Training Loss: 0.00015840960259083658\n",
            "Epoch [7901/10000], Validation Loss: 0.04719807952642441\n"
          ]
        },
        {
          "name": "stderr",
          "output_type": "stream",
          "text": [
            " 80%|████████  | 8001/10000 [32:27<07:43,  4.31it/s]"
          ]
        },
        {
          "name": "stdout",
          "output_type": "stream",
          "text": [
            "Epoch [8001/10000], Training Loss: 7.577985525131226e-05\n",
            "Epoch [8001/10000], Validation Loss: 0.019765466451644897\n"
          ]
        },
        {
          "name": "stderr",
          "output_type": "stream",
          "text": [
            " 81%|████████  | 8101/10000 [32:51<08:08,  3.88it/s]"
          ]
        },
        {
          "name": "stdout",
          "output_type": "stream",
          "text": [
            "Epoch [8101/10000], Training Loss: 9.434544335817918e-05\n",
            "Epoch [8101/10000], Validation Loss: 0.016117461025714874\n"
          ]
        },
        {
          "name": "stderr",
          "output_type": "stream",
          "text": [
            " 82%|████████▏ | 8201/10000 [33:15<09:01,  3.32it/s]"
          ]
        },
        {
          "name": "stdout",
          "output_type": "stream",
          "text": [
            "Epoch [8201/10000], Training Loss: 0.0004321894666645676\n",
            "Epoch [8201/10000], Validation Loss: 0.02701297216117382\n"
          ]
        },
        {
          "name": "stderr",
          "output_type": "stream",
          "text": [
            " 83%|████████▎ | 8301/10000 [33:39<06:39,  4.25it/s]"
          ]
        },
        {
          "name": "stdout",
          "output_type": "stream",
          "text": [
            "Epoch [8301/10000], Training Loss: 0.0002931131748482585\n",
            "Epoch [8301/10000], Validation Loss: 0.01826515793800354\n"
          ]
        },
        {
          "name": "stderr",
          "output_type": "stream",
          "text": [
            " 84%|████████▍ | 8401/10000 [34:03<07:34,  3.52it/s]"
          ]
        },
        {
          "name": "stdout",
          "output_type": "stream",
          "text": [
            "Epoch [8401/10000], Training Loss: 8.750412962399423e-05\n",
            "Epoch [8401/10000], Validation Loss: 0.022758208215236664\n"
          ]
        },
        {
          "name": "stderr",
          "output_type": "stream",
          "text": [
            " 85%|████████▌ | 8501/10000 [34:28<05:51,  4.26it/s]"
          ]
        },
        {
          "name": "stdout",
          "output_type": "stream",
          "text": [
            "Epoch [8501/10000], Training Loss: 0.00015960540622472763\n",
            "Epoch [8501/10000], Validation Loss: 0.028448373079299927\n"
          ]
        },
        {
          "name": "stderr",
          "output_type": "stream",
          "text": [
            " 86%|████████▌ | 8601/10000 [34:52<05:31,  4.22it/s]"
          ]
        },
        {
          "name": "stdout",
          "output_type": "stream",
          "text": [
            "Epoch [8601/10000], Training Loss: 0.00026105460710823536\n",
            "Epoch [8601/10000], Validation Loss: 0.016764570027589798\n"
          ]
        },
        {
          "name": "stderr",
          "output_type": "stream",
          "text": [
            " 87%|████████▋ | 8701/10000 [35:17<05:30,  3.93it/s]"
          ]
        },
        {
          "name": "stdout",
          "output_type": "stream",
          "text": [
            "Epoch [8701/10000], Training Loss: 8.258065645350143e-05\n",
            "Epoch [8701/10000], Validation Loss: 0.04886385798454285\n"
          ]
        },
        {
          "name": "stderr",
          "output_type": "stream",
          "text": [
            " 88%|████████▊ | 8801/10000 [35:40<06:00,  3.32it/s]"
          ]
        },
        {
          "name": "stdout",
          "output_type": "stream",
          "text": [
            "Epoch [8801/10000], Training Loss: 0.0001710967335384339\n",
            "Epoch [8801/10000], Validation Loss: 0.019872253760695457\n"
          ]
        },
        {
          "name": "stderr",
          "output_type": "stream",
          "text": [
            " 89%|████████▉ | 8901/10000 [36:04<04:14,  4.31it/s]"
          ]
        },
        {
          "name": "stdout",
          "output_type": "stream",
          "text": [
            "Epoch [8901/10000], Training Loss: 0.00036530770012177527\n",
            "Epoch [8901/10000], Validation Loss: 0.0210027564316988\n"
          ]
        },
        {
          "name": "stderr",
          "output_type": "stream",
          "text": [
            " 90%|█████████ | 9001/10000 [36:28<03:58,  4.19it/s]"
          ]
        },
        {
          "name": "stdout",
          "output_type": "stream",
          "text": [
            "Epoch [9001/10000], Training Loss: 7.928768172860146e-05\n",
            "Epoch [9001/10000], Validation Loss: 0.03584613651037216\n"
          ]
        },
        {
          "name": "stderr",
          "output_type": "stream",
          "text": [
            " 91%|█████████ | 9101/10000 [36:53<03:35,  4.18it/s]"
          ]
        },
        {
          "name": "stdout",
          "output_type": "stream",
          "text": [
            "Epoch [9101/10000], Training Loss: 0.00010324924369342625\n",
            "Epoch [9101/10000], Validation Loss: 0.020105158910155296\n"
          ]
        },
        {
          "name": "stderr",
          "output_type": "stream",
          "text": [
            " 92%|█████████▏| 9201/10000 [37:18<04:07,  3.23it/s]"
          ]
        },
        {
          "name": "stdout",
          "output_type": "stream",
          "text": [
            "Epoch [9201/10000], Training Loss: 9.783254063222557e-05\n",
            "Epoch [9201/10000], Validation Loss: 0.035249438136816025\n"
          ]
        },
        {
          "name": "stderr",
          "output_type": "stream",
          "text": [
            " 93%|█████████▎| 9301/10000 [37:42<02:51,  4.09it/s]"
          ]
        },
        {
          "name": "stdout",
          "output_type": "stream",
          "text": [
            "Epoch [9301/10000], Training Loss: 0.0001895310269901529\n",
            "Epoch [9301/10000], Validation Loss: 0.03800320625305176\n"
          ]
        },
        {
          "name": "stderr",
          "output_type": "stream",
          "text": [
            " 94%|█████████▍| 9401/10000 [38:06<03:00,  3.32it/s]"
          ]
        },
        {
          "name": "stdout",
          "output_type": "stream",
          "text": [
            "Epoch [9401/10000], Training Loss: 0.00010301579459337518\n",
            "Epoch [9401/10000], Validation Loss: 0.019641486927866936\n"
          ]
        },
        {
          "name": "stderr",
          "output_type": "stream",
          "text": [
            " 95%|█████████▌| 9501/10000 [38:29<01:57,  4.23it/s]"
          ]
        },
        {
          "name": "stdout",
          "output_type": "stream",
          "text": [
            "Epoch [9501/10000], Training Loss: 9.940350719261914e-05\n",
            "Epoch [9501/10000], Validation Loss: 0.01296180672943592\n"
          ]
        },
        {
          "name": "stderr",
          "output_type": "stream",
          "text": [
            " 96%|█████████▌| 9601/10000 [38:53<01:33,  4.29it/s]"
          ]
        },
        {
          "name": "stdout",
          "output_type": "stream",
          "text": [
            "Epoch [9601/10000], Training Loss: 9.103932097787037e-05\n",
            "Epoch [9601/10000], Validation Loss: 0.004801697563380003\n"
          ]
        },
        {
          "name": "stderr",
          "output_type": "stream",
          "text": [
            " 97%|█████████▋| 9701/10000 [39:18<01:09,  4.30it/s]"
          ]
        },
        {
          "name": "stdout",
          "output_type": "stream",
          "text": [
            "Epoch [9701/10000], Training Loss: 0.00038174743531271815\n",
            "Epoch [9701/10000], Validation Loss: 0.028965067118406296\n"
          ]
        },
        {
          "name": "stderr",
          "output_type": "stream",
          "text": [
            " 98%|█████████▊| 9801/10000 [39:42<00:47,  4.22it/s]"
          ]
        },
        {
          "name": "stdout",
          "output_type": "stream",
          "text": [
            "Epoch [9801/10000], Training Loss: 0.00029903766699135303\n",
            "Epoch [9801/10000], Validation Loss: 0.019916556775569916\n"
          ]
        },
        {
          "name": "stderr",
          "output_type": "stream",
          "text": [
            " 99%|█████████▉| 9901/10000 [40:06<00:29,  3.39it/s]"
          ]
        },
        {
          "name": "stdout",
          "output_type": "stream",
          "text": [
            "Epoch [9901/10000], Training Loss: 0.0005340612842701375\n",
            "Epoch [9901/10000], Validation Loss: 0.05554123967885971\n"
          ]
        },
        {
          "name": "stderr",
          "output_type": "stream",
          "text": [
            "100%|██████████| 10000/10000 [40:30<00:00,  4.11it/s]\n"
          ]
        }
      ],
      "source": [
        "# model initialization\n",
        "model = FNO(modes=modes, num_fourier_layers=num_fourier_layers, in_channels=in_channels, hidden_channels=num_fourier_layers, out_channels=out_channels, activation=activation).to(device)\n",
        "\n",
        "# initialize optimizer\n",
        "lr = 0.001\n",
        "optimizer = optim.Adam(model.parameters(), lr=lr)\n",
        "l = nn.MSELoss()\n",
        "#model_state, optimizer_state = model_train(model, train_loader, optimizer, l, epochs)\n",
        "train_loss_log = []\n",
        "test_loss_log=[]\n",
        "\n",
        "for epoch in trange(epochs):\n",
        "    train_losses = []\n",
        "    for batch in train_loader:\n",
        "        inputs, outputs = batch\n",
        "        pred = model(inputs)\n",
        "\n",
        "\n",
        "        train_loss = l(pred, outputs)\n",
        "\n",
        "        optimizer.zero_grad()\n",
        "        train_loss.backward()\n",
        "        optimizer.step()\n",
        "\n",
        "        train_losses.append(train_loss.detach().cpu().item())\n",
        "        # print(loss)\n",
        "        #zero_grad\n",
        "        #backwards\n",
        "        #step\n",
        "        # print(inputs.shape, outputs.shape)\n",
        "    if epoch % 10 == 0 or epoch == epochs:\n",
        "        train_loss_log.append(np.mean(train_losses))\n",
        "        test_losses=[]\n",
        "        with torch.no_grad():\n",
        "          for batch in test_loader:\n",
        "            inputs, outputs = batch\n",
        "            pred = model(inputs)\n",
        "            test_loss = l(pred, outputs)\n",
        "            test_losses.append(test_loss.detach().cpu().item())\n",
        "        test_loss_log.append(np.mean(test_losses))\n",
        "        if epoch % 100 == 0 or epoch == epochs:\n",
        "          print(f'Epoch [{epoch+1}/{epochs}], Training Loss: {train_loss}')\n",
        "          print(f'Epoch [{epoch+1}/{epochs}], Validation Loss: {test_loss}')\n"
      ]
    },
    {
      "cell_type": "code",
      "execution_count": 40,
      "id": "zMUzG0DAUtg2",
      "metadata": {
        "colab": {
          "base_uri": "https://localhost:8080/",
          "height": 17
        },
        "id": "zMUzG0DAUtg2",
        "outputId": "4e074e0a-b7e7-4469-c10c-172c740bb035"
      },
      "outputs": [
        {
          "data": {
            "application/javascript": "\n    async function download(id, filename, size) {\n      if (!google.colab.kernel.accessAllowed) {\n        return;\n      }\n      const div = document.createElement('div');\n      const label = document.createElement('label');\n      label.textContent = `Downloading \"${filename}\": `;\n      div.appendChild(label);\n      const progress = document.createElement('progress');\n      progress.max = size;\n      div.appendChild(progress);\n      document.body.appendChild(div);\n\n      const buffers = [];\n      let downloaded = 0;\n\n      const channel = await google.colab.kernel.comms.open(id);\n      // Send a message to notify the kernel that we're ready.\n      channel.send({})\n\n      for await (const message of channel.messages) {\n        // Send a message to notify the kernel that we're ready.\n        channel.send({})\n        if (message.buffers) {\n          for (const buffer of message.buffers) {\n            buffers.push(buffer);\n            downloaded += buffer.byteLength;\n            progress.value = downloaded;\n          }\n        }\n      }\n      const blob = new Blob(buffers, {type: 'application/binary'});\n      const a = document.createElement('a');\n      a.href = window.URL.createObjectURL(blob);\n      a.download = filename;\n      div.appendChild(a);\n      a.click();\n      div.remove();\n    }\n  ",
            "text/plain": [
              "<IPython.core.display.Javascript object>"
            ]
          },
          "metadata": {},
          "output_type": "display_data"
        },
        {
          "data": {
            "application/javascript": "download(\"download_1e68d063-cd4a-43c8-85a8-1e22f847a23e\", \"fno_unnormalized_9999.pt\", 189454)",
            "text/plain": [
              "<IPython.core.display.Javascript object>"
            ]
          },
          "metadata": {},
          "output_type": "display_data"
        }
      ],
      "source": [
        "from google.colab import files\n",
        "import helper\n",
        "checkpoint = {\n",
        "        'model_state': model.state_dict(),\n",
        "        'optimizer_state': optimizer.state_dict(),\n",
        "        'epoch': epoch,\n",
        "        'train_loss_log': train_loss_log,\n",
        "        'test_loss_log': test_loss_log\n",
        "    }\n",
        "\n",
        "\n",
        "checkpt_file = \"fno_unnormalized\"+f'_{epoch}.pt'\n",
        "torch.save(checkpoint, checkpt_path+checkpt_file)\n",
        "files.download(checkpt_file)\n"
      ]
    },
    {
      "cell_type": "markdown",
      "id": "wNutAOCp3G6M",
      "metadata": {
        "id": "wNutAOCp3G6M"
      },
      "source": [
        "# Load Model"
      ]
    },
    {
      "cell_type": "code",
      "execution_count": 44,
      "id": "WNjPkEa2WbDN",
      "metadata": {
        "id": "WNjPkEa2WbDN"
      },
      "outputs": [],
      "source": [
        "checkpt_file=\"fno_unnormalized_9999.pt\"\n",
        "checkpoint=torch.load(checkpt_path+checkpt_file, weights_only=False)\n",
        "\n",
        "model=FNO(modes=modes, num_fourier_layers=num_fourier_layers, in_channels=in_channels, hidden_channels=num_fourier_layers, out_channels=out_channels, activation=activation).to(device)\n",
        "\n",
        "model.load_state_dict(checkpoint['model_state'])\n",
        "optimizer.load_state_dict(checkpoint['optimizer_state'])\n",
        "# epoch=checkpoint['epoch']\n",
        "train_loss_log=checkpoint['train_loss_log']\n",
        "test_loss_log=checkpoint['test_loss_log']\n",
        "\n",
        "#model.state_dict()\n",
        "#checkpoint['model_state']"
      ]
    },
    {
      "cell_type": "markdown",
      "id": "kszLtruQcsB9",
      "metadata": {
        "id": "kszLtruQcsB9"
      },
      "source": [
        "## Un-Normalize Data"
      ]
    },
    {
      "cell_type": "code",
      "execution_count": 15,
      "id": "G45kQ0LzcrOr",
      "metadata": {
        "id": "G45kQ0LzcrOr"
      },
      "outputs": [],
      "source": [
        "#train_input_means = train_dataset.train_input_means\n",
        "#train_input_stds = train_dataset.train_input_stds\n",
        "\n",
        "#train_output_means = train_dataset.train_output_means\n",
        "#train_output_stds = train_dataset.train_output_stds\n",
        "\n",
        "#train_dataset.unnormalize_training_data()\n",
        "#test_dataset.unnormalize_test_data(train_dataset.train_input_means, train_dataset.train_input_stds, train_dataset.train_output_means, train_dataset.train_output_stds)"
      ]
    },
    {
      "cell_type": "code",
      "execution_count": 33,
      "id": "_tKA3TJafRW3",
      "metadata": {
        "colab": {
          "base_uri": "https://localhost:8080/"
        },
        "id": "_tKA3TJafRW3",
        "outputId": "5d9da6d5-b0a8-4078-b353-57fcdf7e1ca3"
      },
      "outputs": [
        {
          "data": {
            "text/plain": [
              "tensor([1.0000, 1.0000, 1.0000, 1.0000, 1.0000, 1.0000, 1.0000, 1.0000, 1.0000,\n",
              "        1.0000, 1.0000, 1.0000, 1.0000, 1.0000, 1.0000, 1.0000, 1.0000, 1.0000,\n",
              "        1.0000, 1.0000, 1.0000, 1.0000, 1.0000, 1.0000, 1.0000, 1.0000, 1.0000,\n",
              "        1.0000, 1.0000, 1.0000, 1.0000, 1.0000, 1.0000, 1.0000, 1.0000, 1.0000,\n",
              "        1.0000, 1.0000, 1.0000, 1.0000, 1.0000, 1.0000, 1.0000, 1.0000, 1.0000,\n",
              "        1.0000, 1.0000, 1.0000, 1.0000, 1.0000, 1.0000, 1.0000, 1.0000, 1.0000,\n",
              "        1.0000, 1.0000, 1.0000, 1.0000, 1.0000, 1.0000, 1.0000, 1.0000, 1.0000,\n",
              "        1.0000, 1.0000, 1.0000, 1.0000, 1.0000, 1.0000, 1.0000, 1.0000, 1.0000,\n",
              "        1.0000, 1.0000, 1.0000, 1.0000, 1.0000, 1.0000, 1.0000, 1.0000, 1.0000,\n",
              "        1.0000, 1.0000, 1.0000, 1.0000, 1.0000, 1.0000, 1.0000, 1.0000, 1.0000,\n",
              "        1.0000, 1.0000, 1.0000, 1.0000, 1.0000, 1.0000, 1.0000, 1.0000, 1.0000,\n",
              "        1.0000, 1.0000, 1.0000, 1.0000, 1.0000, 1.0000, 1.0000, 1.0000, 1.0000,\n",
              "        1.0000, 1.0000, 1.0000, 1.0000, 1.0000, 1.0000, 1.0000, 1.0000, 1.0000,\n",
              "        1.0000, 1.0000, 1.0000, 1.0000, 1.0000, 1.0000, 1.0000, 1.0000, 1.0000,\n",
              "        1.0000, 1.0000, 1.0000, 1.0000, 1.0000, 1.0000, 1.0000, 1.0000, 1.0000,\n",
              "        1.0000, 1.0000, 1.0000, 1.0000, 1.0000, 1.0000, 1.0000, 1.0000, 1.0000,\n",
              "        1.0000, 1.0000, 1.0000, 1.0000, 1.0000, 1.0000, 1.0000, 1.0000, 1.0000,\n",
              "        1.0000, 1.0000, 1.0000, 1.0000, 1.0000, 1.0000, 1.0000, 1.0000, 1.0000,\n",
              "        1.0000, 1.0000, 1.0000, 1.0000, 1.0000, 1.0000, 1.0000, 1.0000, 1.0000,\n",
              "        1.0000, 1.0000, 1.0000, 1.0000, 1.0000, 1.0000, 1.0000, 1.0000, 1.0000,\n",
              "        1.0000, 1.0000, 1.0000, 1.0000, 1.0000, 1.0000, 1.0000, 1.0000, 1.0000,\n",
              "        1.0000, 1.0000, 1.0000, 1.0000, 1.0000, 1.0000, 1.0000, 1.0000, 1.0000,\n",
              "        1.0000, 1.0000, 1.0000, 1.0000, 1.0000, 1.0000, 1.0000, 1.0000, 1.0000,\n",
              "        1.0000, 1.0000, 1.0000, 1.0000, 1.0000, 1.0000, 1.0000, 1.0000, 1.0000,\n",
              "        1.0000, 1.0000, 1.0000, 1.0000, 1.0000, 1.0000, 1.0000, 1.0000, 1.0000,\n",
              "        1.0000, 1.0000, 1.0000, 1.0000, 1.0000, 1.0000, 1.0000, 1.0000, 1.0000,\n",
              "        1.0000, 1.0000, 1.0000, 1.0000, 1.0000, 1.0000, 1.0000, 1.0000, 1.0000,\n",
              "        1.0000, 1.0000, 1.0000, 1.0000, 1.0000, 1.0000, 1.0000, 0.1250, 0.1250,\n",
              "        0.1250, 0.1250, 0.1250, 0.1250, 0.1250, 0.1250, 0.1250, 0.1250, 0.1250,\n",
              "        0.1250, 0.1250, 0.1250, 0.1250, 0.1250, 0.1250, 0.1250, 0.1250, 0.1250,\n",
              "        0.1250, 0.1250, 0.1250, 0.1250, 0.1250, 0.1250, 0.1250, 0.1250, 0.1250,\n",
              "        0.1250, 0.1250, 0.1250, 0.1250, 0.1250, 0.1250, 0.1250, 0.1250, 0.1250,\n",
              "        0.1250, 0.1250, 0.1250, 0.1250, 0.1250, 0.1250, 0.1250, 0.1250, 0.1250,\n",
              "        0.1250, 0.1250, 0.1250, 0.1250, 0.1250, 0.1250, 0.1250, 0.1250, 0.1250,\n",
              "        0.1250, 0.1250, 0.1250, 0.1250, 0.1250, 0.1250, 0.1250, 0.1250, 0.1250,\n",
              "        0.1250, 0.1250, 0.1250, 0.1250, 0.1250, 0.1250, 0.1250, 0.1250, 0.1250,\n",
              "        0.1250, 0.1250, 0.1250, 0.1250, 0.1250, 0.1250, 0.1250, 0.1250, 0.1250,\n",
              "        0.1250, 0.1250, 0.1250, 0.1250, 0.1250, 0.1250, 0.1250, 0.1250, 0.1250,\n",
              "        0.1250, 0.1250, 0.1250, 0.1250, 0.1250, 0.1250, 0.1250, 0.1250, 0.1250,\n",
              "        0.1250, 0.1250, 0.1250, 0.1250, 0.1250, 0.1250, 0.1250, 0.1250, 0.1250,\n",
              "        0.1250, 0.1250, 0.1250, 0.1250, 0.1250, 0.1250, 0.1250, 0.1250, 0.1250,\n",
              "        0.1250, 0.1250, 0.1250, 0.1250, 0.1250, 0.1250, 0.1250, 0.1250, 0.1250,\n",
              "        0.1250, 0.1250, 0.1250, 0.1250, 0.1250, 0.1250, 0.1250, 0.1250, 0.1250,\n",
              "        0.1250, 0.1250, 0.1250, 0.1250, 0.1250, 0.1250, 0.1250, 0.1250, 0.1250,\n",
              "        0.1250, 0.1250, 0.1250, 0.1250, 0.1250, 0.1250, 0.1250, 0.1250, 0.1250,\n",
              "        0.1250, 0.1250, 0.1250, 0.1250, 0.1250, 0.1250, 0.1250, 0.1250, 0.1250,\n",
              "        0.1250, 0.1250, 0.1250, 0.1250, 0.1250, 0.1250, 0.1250, 0.1250, 0.1250,\n",
              "        0.1250, 0.1250, 0.1250, 0.1250, 0.1250, 0.1250, 0.1250, 0.1250, 0.1250,\n",
              "        0.1250, 0.1250, 0.1250, 0.1250, 0.1250, 0.1250, 0.1250, 0.1250, 0.1250,\n",
              "        0.1250, 0.1250, 0.1250, 0.1250, 0.1250, 0.1250, 0.1250, 0.1250, 0.1250,\n",
              "        0.1250, 0.1250, 0.1250, 0.1250, 0.1250, 0.1250, 0.1250, 0.1250, 0.1250,\n",
              "        0.1250, 0.1250, 0.1250, 0.1250, 0.1250, 0.1250, 0.1250, 0.1250, 0.1250,\n",
              "        0.1250, 0.1250, 0.1250, 0.1250, 0.1250, 0.1250, 0.1250, 0.1250, 0.1250,\n",
              "        0.1250, 0.1250, 0.1250, 0.1250, 0.1250, 0.1250, 0.1250, 0.1250, 0.1250,\n",
              "        0.1250, 0.1250, 0.1250, 0.1250, 0.1250, 0.1250, 0.1250, 0.1250, 0.1250,\n",
              "        0.1250, 0.1250, 0.1250, 0.1250, 0.1250], device='cuda:0')"
            ]
          },
          "execution_count": 33,
          "metadata": {},
          "output_type": "execute_result"
        }
      ],
      "source": [
        "input_data, output_data = train_dataset[0]\n",
        "input_data.shape\n",
        "#print(input_data.shape)\n",
        "#print(output_data.shape)\n",
        "torch.as_tensor(train_dataset.input_data).shape\n",
        "input_data[:,2]"
      ]
    },
    {
      "cell_type": "markdown",
      "id": "zEv-yUodyZ4c",
      "metadata": {
        "id": "zEv-yUodyZ4c"
      },
      "source": [
        "# Plot Training History and Predictions"
      ]
    },
    {
      "cell_type": "code",
      "execution_count": 47,
      "id": "J90ExrPnydRr",
      "metadata": {
        "colab": {
          "base_uri": "https://localhost:8080/",
          "height": 753
        },
        "id": "J90ExrPnydRr",
        "outputId": "f7ae23b6-713e-4205-fc48-c29ce730fcc0"
      },
      "outputs": [
        {
          "data": {
            "image/png": "[encoded data removed]",
            "text/plain": [
              "<Figure size 800x800 with 1 Axes>"
            ]
          },
          "metadata": {},
          "output_type": "display_data"
        },
        {
          "data": {
            "text/plain": [
              "<matplotlib.legend.Legend at 0x7b39c49d9b10>"
            ]
          },
          "execution_count": 47,
          "metadata": {},
          "output_type": "execute_result"
        }
      ],
      "source": [
        "fig, ax = plt.subplots(1, figsize=(8,8))\n",
        "ax.plot(train_loss_log, label=\"Training Loss\", c=\"b\")\n",
        "ax.plot(test_loss_log, label=\"Validation Loss\", c=\"r\")\n",
        "ax.tick_params(axis=\"both\", labelsize=25)\n",
        "ax.set_yscale(\"log\")\n",
        "ax.set_ylabel(\"Loss\", fontsize=25)\n",
        "ax.set_xlabel(\"Epochs\", fontsize=25)\n",
        "ax.legend(fontsize=25)\n",
        "ax.grid()\n",
        "plt.show()\n",
        "ax.legend()"
      ]
    },
    {
      "cell_type": "code",
      "execution_count": 56,
      "id": "-5Qt5GLFGM1A",
      "metadata": {
        "colab": {
          "base_uri": "https://localhost:8080/",
          "height": 991
        },
        "id": "-5Qt5GLFGM1A",
        "outputId": "439f1986-09ff-44f3-91ea-5f17e2616a24"
      },
      "outputs": [
        {
          "data": {
            "image/png": "[encoded data removed]",
            "text/plain": [
              "<Figure size 2400x1600 with 3 Axes>"
            ]
          },
          "metadata": {},
          "output_type": "display_data"
        }
      ],
      "source": [
        "dpi = 100\n",
        "num_figs = 1\n",
        "rows = 1\n",
        "cols = 3\n",
        "for k in range(num_figs):\n",
        "  fig, ax = plt.subplots(cols, rows, figsize=(24, 16), dpi=dpi)\n",
        "  rand_ex = np.random.randint(0, len(test_dataset))\n",
        "  input, output = test_dataset[rand_ex]\n",
        "  input = torch.unsqueeze(input, 0)\n",
        "  output = torch.unsqueeze(output, 0)\n",
        "  #print(input.size())\n",
        "  #print(output.size())\n",
        "  pred = model(input)\n",
        "  # print(pred.size())\n",
        "  input = torch.squeeze(input, 0)\n",
        "  output = torch.squeeze(output, 0)\n",
        "  pred = torch.squeeze(pred, 0)\n",
        "  #print(input.size())\n",
        "  #print(output.size())\n",
        "  #print(pred.size())\n",
        "  input_x=input[:,0].detach().cpu().numpy()\n",
        "  #print(input_x)\n",
        "  input_p=input[:,1].detach().cpu().numpy()\n",
        "  input_rho=input[:,2].detach().cpu().numpy()\n",
        "  input_u=input[:,3].detach().cpu().numpy()\n",
        "\n",
        "  output_p=output[:,0].detach().cpu().numpy()\n",
        "  output_rho=output[:,1].detach().cpu().numpy()\n",
        "  output_u=output[:,2].detach().cpu().numpy()\n",
        "\n",
        "  pred_p=pred[:,0].detach().cpu().numpy()\n",
        "  pred_rho=pred[:,1].detach().cpu().numpy()\n",
        "  pred_u=pred[:,2].detach().cpu().numpy()\n",
        "\n",
        "  ax[0].plot(input_p, label=\"Initial p\", c=\"b\", lw=5)\n",
        "  ax[0].plot(output_p, label=\"Ground Truth p\", c=\"k\", lw=5)\n",
        "  ax[0].plot(pred_p, label=\"Predicted p\", c=\"orange\", lw=5)\n",
        "  ax[0].legend()\n",
        "\n",
        "  ax[1].plot(input_rho, label=\"Initial rho\", c=\"b\", lw=5)\n",
        "  ax[1].plot(output_rho, label=\"Ground Truth rho\", c=\"k\", lw=5)\n",
        "  ax[1].plot(pred_rho, label=\"Predicted rho\", c=\"orange\", lw=5)\n",
        "  ax[1].legend()\n",
        "\n",
        "  ax[2].plot(input_u, label=\"Initial u\", c=\"b\", lw=5)\n",
        "  ax[2].plot(output_u, label=\"Ground Truth u\", c=\"k\", lw=5)\n",
        "  ax[2].plot(pred_u, label=\"Predicted u\", c=\"orange\", lw=5)\n",
        "  ax[2].legend()\n",
        "\n"
      ]
    },
    {
      "cell_type": "code",
      "execution_count": null,
      "id": "67ccf92d",
      "metadata": {
        "id": "67ccf92d"
      },
      "outputs": [],
      "source": [
        "def activation(name='tanh'):\n",
        "    if name in ['tanh', 'Tanh']:\n",
        "        return nn.Tanh()\n",
        "    elif name in ['relu', 'ReLU']:\n",
        "        return nn.ReLU(inplace=True)\n",
        "    elif name in ['lrelu', 'LReLU']:\n",
        "        return nn.LeakyReLU(inplace=True)\n",
        "    elif name in ['sigmoid', 'Sigmoid']:\n",
        "        return nn.Sigmoid()\n",
        "    elif name in ['softplus', 'Softplus']:\n",
        "        return nn.Softplus(beta=4)\n",
        "    elif name in ['celu', 'CeLU']:\n",
        "        return nn.CELU()\n",
        "    elif name in ['elu']:\n",
        "        return nn.ELU()\n",
        "    elif name in ['SiLU']:\n",
        "        return nn.SiLU()\n",
        "    else:\n",
        "        raise ValueError('Unknown activation function')"
      ]
    }
  ],
  "metadata": {
    "accelerator": "GPU",
    "colab": {
      "gpuType": "T4",
      "provenance": []
    },
    "kernelspec": {
      "display_name": "Python 3",
      "name": "python3"
    },
    "language_info": {
      "codemirror_mode": {
        "name": "ipython",
        "version": 3
      },
      "file_extension": ".py",
      "mimetype": "text/x-python",
      "name": "python",
      "nbconvert_exporter": "python",
      "pygments_lexer": "ipython3",
      "version": "3.11.4"
    }
  },
  "nbformat": 4,
  "nbformat_minor": 5
}
