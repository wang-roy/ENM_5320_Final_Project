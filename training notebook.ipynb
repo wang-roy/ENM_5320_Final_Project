{
 "cells": [
  {
   "cell_type": "code",
   "execution_count": null,
   "id": "1020da6d",
   "metadata": {},
   "outputs": [],
   "source": [
    "import torch\n",
    "import torch.nn as nn\n",
    "import numpy as np\n",
    "import matplotlib.pyplot as plt\n",
    "from FNO import FNO\n",
    "import pickle as pkl\n",
    "\n",
    "from IPython.display import clear_output\n",
    "import ipywidgets as widgets\n",
    "from time import sleep"
   ]
  },
  {
   "cell_type": "code",
   "execution_count": null,
   "id": "ff58cd16",
   "metadata": {},
   "outputs": [],
   "source": [
    "# global parameters\n",
    "nx = 400\n",
    "\n",
    "modes = 10\n",
    "num_fourier_layers = 4\n",
    "in_channels = nx\n",
    "out_channels = nx\n",
    "fourier_channels = 20\n",
    "activation = nn.GELU()\n",
    "\n",
    "epochs = 1\n",
    "visualize = True"
   ]
  },
  {
   "cell_type": "code",
   "execution_count": null,
   "id": "1023b11d",
   "metadata": {},
   "outputs": [],
   "source": [
    "# model initialization\n",
    "\n",
    "model = FNO(modes, num_fourier_layers, )"
   ]
  },
  {
   "cell_type": "code",
   "execution_count": 35,
   "id": "95927ea1",
   "metadata": {},
   "outputs": [],
   "source": [
    "# dataloader intialization\n",
    "\n",
    "with open(\"sod_shock_dataset.pkl\", \"rb\") as f:\n",
    "    solutions = pkl.load(f)\n",
    "\n",
    "# train dataset\n",
    "\n",
    "# test dataset"
   ]
  },
  {
   "cell_type": "code",
   "execution_count": 29,
   "id": "640e39aa",
   "metadata": {},
   "outputs": [],
   "source": [
    "# optimizer"
   ]
  },
  {
   "cell_type": "code",
   "execution_count": 30,
   "id": "cf318e4c",
   "metadata": {},
   "outputs": [],
   "source": [
    "# loss function"
   ]
  },
  {
   "cell_type": "code",
   "execution_count": 31,
   "id": "df54f243",
   "metadata": {},
   "outputs": [],
   "source": [
    "# training loop\n",
    "\n",
    "# "
   ]
  },
  {
   "cell_type": "code",
   "execution_count": null,
   "id": "f73b95f1",
   "metadata": {},
   "outputs": [],
   "source": []
  }
 ],
 "metadata": {
  "kernelspec": {
   "display_name": "pytorch_env",
   "language": "python",
   "name": "python3"
  },
  "language_info": {
   "codemirror_mode": {
    "name": "ipython",
    "version": 3
   },
   "file_extension": ".py",
   "mimetype": "text/x-python",
   "name": "python",
   "nbconvert_exporter": "python",
   "pygments_lexer": "ipython3",
   "version": "3.10.14"
  }
 },
 "nbformat": 4,
 "nbformat_minor": 5
}
